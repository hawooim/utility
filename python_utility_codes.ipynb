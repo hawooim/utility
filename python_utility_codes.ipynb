{
 "cells": [
  {
   "cell_type": "markdown",
   "id": "06b98844",
   "metadata": {},
   "source": [
    "# Python utility codes"
   ]
  },
  {
   "cell_type": "code",
   "execution_count": null,
   "id": "bc487952",
   "metadata": {},
   "outputs": [],
   "source": [
    "#This code allows to output more than one variable value without using a print statement.\n",
    "from IPython.core.interactiveshell import InteractiveShell\n",
    "InteractiveShell.ast_node_interactivity = \"all\""
   ]
  },
  {
   "cell_type": "markdown",
   "id": "0eec16fa",
   "metadata": {},
   "source": [
    "### Virtual environment setup for Tensorflow Deveoper Certificate\n",
    "\n",
    "#### 1. Install Microsoft Visual C++ Redistributable\n",
    "https://docs.microsoft.com/en-US/cpp/windows/latest-supported-vc-redist?view=msvc-170\n",
    "\n",
    "\n",
    "#### 2. Create anaconda virtual environment (anaconda prompt)  \n",
    "conda create -n tf_cert python=3.8.0  \n",
    "conda activate tf_cert  \n",
    "pip install tensorflow==2.6.2 (Don't install tensorflow-gpu, it will fail later when tensorflow exam plugin examines environment in pycharm.)  \n",
    "pip install tensorflow-datasets==4.4.0  \n",
    "pip install Pillow==8.3.2  \n",
    "pip install pandas==1.3.3  \n",
    "pip install scipy==1.7.1  \n",
    "pip install sklearn  \n",
    "(urllib3 is already installed.)  \n",
    "\n",
    "\n",
    "#### 3. Install CUDA toolkit\n",
    "Version: 11.2.0   \n",
    "Install ony CUDA toolkit (No drivers, Geforce Experience, etc.)\n",
    "\n",
    "#### 4. Install cuDNN\n",
    "Version: 8.1.0  \n",
    "\n",
    "#### 5. Install PyCharm and setup\n",
    "File - New Project - Project Name  \n",
    "File - Setting - Select Project - Choose Python Interpreter (Gear - Add)  \n",
    "Disable 'code with me' plug-in"
   ]
  },
  {
   "cell_type": "code",
   "execution_count": null,
   "id": "f97a72c7",
   "metadata": {},
   "outputs": [],
   "source": [
    "# Tensorflow environment check \n",
    "import sys\n",
    "import tensorflow.keras\n",
    "import pandas as pd\n",
    "import sklearn as sk\n",
    "import tensorflow as tf\n",
    "\n",
    "print(f\"Tensor Flow Version: {tf.__version__}\")\n",
    "print(f\"Keras Version: {tensorflow.keras.__version__}\")\n",
    "print()\n",
    "print(f\"Python {sys.version}\")\n",
    "print(f\"Pandas {pd.__version__}\")\n",
    "print(f\"Scikit-Learn {sk.__version__}\")\n",
    "print(\"Num GPUs Available:\", len(tf.config.list_physical_devices('GPU')))\n",
    "print(\"Built with CUDA:\", tf.test.is_built_with_cuda())\n",
    "print(\"Built with GPU support:\", tf.test.is_built_with_gpu_support())"
   ]
  },
  {
   "cell_type": "code",
   "execution_count": null,
   "id": "07471ca3",
   "metadata": {},
   "outputs": [],
   "source": []
  }
 ],
 "metadata": {
  "kernelspec": {
   "display_name": "Python 3 (ipykernel)",
   "language": "python",
   "name": "python3"
  },
  "language_info": {
   "codemirror_mode": {
    "name": "ipython",
    "version": 3
   },
   "file_extension": ".py",
   "mimetype": "text/x-python",
   "name": "python",
   "nbconvert_exporter": "python",
   "pygments_lexer": "ipython3",
   "version": "3.9.7"
  }
 },
 "nbformat": 4,
 "nbformat_minor": 5
}
