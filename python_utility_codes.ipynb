{
 "cells": [
  {
   "cell_type": "markdown",
   "id": "06b98844",
   "metadata": {},
   "source": [
    "## Python utility codes"
   ]
  },
  {
   "cell_type": "code",
   "execution_count": 1,
   "id": "bc487952",
   "metadata": {},
   "outputs": [],
   "source": [
    "#This code allows to output more than one variable value without using a print statement.\n",
    "from IPython.core.interactiveshell import InteractiveShell\n",
    "InteractiveShell.ast_node_interactivity = \"all\""
   ]
  },
  {
   "cell_type": "code",
   "execution_count": null,
   "id": "f97a72c7",
   "metadata": {},
   "outputs": [],
   "source": []
  }
 ],
 "metadata": {
  "kernelspec": {
   "display_name": "Python 3 (ipykernel)",
   "language": "python",
   "name": "python3"
  },
  "language_info": {
   "codemirror_mode": {
    "name": "ipython",
    "version": 3
   },
   "file_extension": ".py",
   "mimetype": "text/x-python",
   "name": "python",
   "nbconvert_exporter": "python",
   "pygments_lexer": "ipython3",
   "version": "3.9.7"
  }
 },
 "nbformat": 4,
 "nbformat_minor": 5
}
