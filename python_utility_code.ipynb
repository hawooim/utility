{
 "cells": [
  {
   "cell_type": "markdown",
   "id": "6d4c7b33",
   "metadata": {},
   "source": [
    "## Print all"
   ]
  },
  {
   "cell_type": "code",
   "execution_count": null,
   "id": "b3ca4399",
   "metadata": {},
   "outputs": [],
   "source": [
    "# This code allows to output more than one variable value without using a print statement.\n",
    "from IPython.core.interactiveshell import InteractiveShell\n",
    "InteractiveShell.ast_node_interactivity = \"all\"\n",
    "\n",
    "# default\n",
    "# InteractiveShell.ast_node_interactivity = \"last_expr\""
   ]
  },
  {
   "cell_type": "markdown",
   "id": "f83777b0",
   "metadata": {},
   "source": [
    "## Virtual environment setup (Tensorflow Deveoper Certificate)"
   ]
  },
  {
   "cell_type": "markdown",
   "id": "347d018c",
   "metadata": {},
   "source": [
    "### #1. Install Microsoft Visual C++ Redistributable\n",
    "https://docs.microsoft.com/en-US/cpp/windows/latest-supported-vc-redist?view=msvc-170\n",
    "\n",
    "#### 2. Create anaconda virtual environment (anaconda prompt)\n",
    "conda create -n tf_cert python=3.8.0  \n",
    "conda activate tf_cert  \n",
    "pip install tensorflow==2.6.2   \n",
    "(Don't install tensorflow-gpu, it will fail later when tensorflow exam plugin examines   environment in pycharm.)  \n",
    "pip install tensorflow-datasets==4.4.0  \n",
    "pip install Pillow==8.3.2  \n",
    "pip install pandas==1.3.3  \n",
    "pip install scipy==1.7.1  \n",
    "pip install sklearn  \n",
    "(urllib3 is already installed.)  \n",
    "\n",
    "#### 3. Install CUDA toolkit\n",
    "Version: 11.2.0 Install ony CUDA toolkit (No drivers, Geforce Experience, etc.)\n",
    "\n",
    "#### 4. Install cuDNN\n",
    "Version: 8.1.0\n",
    "\n",
    "#### 5. Install PyCharm and setup\n",
    "File - New Project - Project Name File - Setting - Select Project - Choose Python Interpreter (Gear - Add) Disable 'code with me' plug-in"
   ]
  },
  {
   "cell_type": "markdown",
   "id": "bdb1ea95",
   "metadata": {},
   "source": [
    "## Tensorflow version check"
   ]
  },
  {
   "cell_type": "code",
   "execution_count": null,
   "id": "b6a9a89b",
   "metadata": {},
   "outputs": [],
   "source": [
    "# Version Check\n",
    "import sys\n",
    "import tensorflow as tf\n",
    "import tensorflow_datasets as tfds\n",
    "import PIL\n",
    "import pandas as pd\n",
    "import numpy as np\n",
    "import scipy\n",
    "print(\"python\", sys.version)\n",
    "print(\"tensorflow\", tf.__version__)\n",
    "print(\"tensorflow-datasets\", tfds.__version__)\n",
    "print(\"Pillow\", PIL.__version__)\n",
    "print(\"pandas\", pd.__version__)\n",
    "print(\"numpy\", np.__version__)\n",
    "print(\"scipy\", scipy.__version__)\n",
    "print()\n",
    "print(\"Num GPUs Available:\", len(tf.config.list_physical_devices('GPU')))\n",
    "print(\"Built with CUDA:\", tf.test.is_built_with_cuda())\n",
    "print(\"Built with GPU support:\", tf.test.is_built_with_gpu_support())\n",
    "print()"
   ]
  },
  {
   "cell_type": "markdown",
   "id": "0339c136",
   "metadata": {},
   "source": [
    "## matplotlib plt.style to default"
   ]
  },
  {
   "cell_type": "code",
   "execution_count": null,
   "id": "3df4a300",
   "metadata": {},
   "outputs": [],
   "source": [
    "import matplotlib\n",
    "matplotlib.rcParams.update(matplotlib.rcParamsDefault)"
   ]
  },
  {
   "cell_type": "markdown",
   "id": "2611649d",
   "metadata": {},
   "source": [
    "## RStudio default dir\n",
    " - Rstudio - tools - global options"
   ]
  },
  {
   "cell_type": "markdown",
   "id": "b2afa1c0",
   "metadata": {},
   "source": [
    "## Anaconda default dir\n",
    " - right-click Jupyter Notebook (anaconda3) shortcut\n",
    " - more - open file locations\n",
    " - locate the file and right-click\n",
    " - in target, delete the following: %USERPROFILE%\n",
    " -\n",
    "\n",
    " - run anaconda prompt\n",
    " -\n",
    " - run the following code: jupyter notebook --generate-config\n",
    " - locate the following file and open: C:\\users\\username.jupyter\\jupyter_notebook_config.py\n",
    " -\n",
    " - find the following line: #c.NotebookApp.notebook_dir = ''\n",
    " - \n",
    " - delete #\n",
    " - add new folder location in between ''"
   ]
  },
  {
   "cell_type": "markdown",
   "id": "713684c9",
   "metadata": {},
   "source": [
    "## R markdown - to pdf\n",
    " - install miktex\n",
    " - choose 'always' whether missing packages are to be installed automatically (on-the-fly)"
   ]
  },
  {
   "cell_type": "markdown",
   "id": "3e2894a7",
   "metadata": {},
   "source": [
    "## How to see funciton code"
   ]
  },
  {
   "cell_type": "code",
   "execution_count": null,
   "id": "f8305399",
   "metadata": {},
   "outputs": [],
   "source": [
    "import inspect\n",
    "inspect.getsource(yourfunction)"
   ]
  },
  {
   "cell_type": "markdown",
   "id": "3ad9f99b",
   "metadata": {},
   "source": [
    "## Pycaret as a one-stop packages installer"
   ]
  },
  {
   "cell_type": "code",
   "execution_count": null,
   "id": "49a7361f",
   "metadata": {},
   "outputs": [],
   "source": []
  }
 ],
 "metadata": {
  "kernelspec": {
   "display_name": "Python 3 (ipykernel)",
   "language": "python",
   "name": "python3"
  },
  "language_info": {
   "codemirror_mode": {
    "name": "ipython",
    "version": 3
   },
   "file_extension": ".py",
   "mimetype": "text/x-python",
   "name": "python",
   "nbconvert_exporter": "python",
   "pygments_lexer": "ipython3",
   "version": "3.8.12"
  }
 },
 "nbformat": 4,
 "nbformat_minor": 5
}
